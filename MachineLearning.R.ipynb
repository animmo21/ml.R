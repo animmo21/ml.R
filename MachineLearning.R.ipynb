{
 "cells": [
  {
   "cell_type": "code",
   "execution_count": 1,
   "id": "6eb08f11-8f2c-4b6d-8347-62c7a48776a6",
   "metadata": {},
   "outputs": [],
   "source": [
    "library(ggplot2)\n",
    "library(lattice)\n",
    "library(caret)"
   ]
  },
  {
   "cell_type": "code",
   "execution_count": 2,
   "id": "6ec2c98d-2e97-4dcb-b72e-c93f794588cf",
   "metadata": {},
   "outputs": [],
   "source": [
    "# attach the iris dataset to the environment\n",
    "data(iris)\n",
    "# rename the dataset\n",
    "dataset <- iris"
   ]
  },
  {
   "cell_type": "code",
   "execution_count": 3,
   "id": "e6242608-184a-4304-b8c0-cd09165c1394",
   "metadata": {},
   "outputs": [],
   "source": [
    "# define the filename\n",
    "filename <- \"iris.csv\"\n",
    "# load the CSV file from the local directory\n",
    "dataset <- read.csv(filename, header=FALSE)\n",
    "# set the column names in the dataset\n",
    "colnames(dataset) <- c(\"Sepal.Length\",\"Sepal.Width\",\"Petal.Length\",\"Petal.Width\",\"Species\")"
   ]
  },
  {
   "cell_type": "code",
   "execution_count": 4,
   "id": "ac5da51a-c47a-4fc5-ae8b-bacacfb8b80e",
   "metadata": {},
   "outputs": [
    {
     "name": "stdout",
     "output_type": "stream",
     "text": [
      "'data.frame':\t150 obs. of  5 variables:\n",
      " $ Sepal.Length: num  5.1 4.9 4.7 4.6 5 5.4 4.6 5 4.4 4.9 ...\n",
      " $ Sepal.Width : num  3.5 3 3.2 3.1 3.6 3.9 3.4 3.4 2.9 3.1 ...\n",
      " $ Petal.Length: num  1.4 1.4 1.3 1.5 1.4 1.7 1.4 1.5 1.4 1.5 ...\n",
      " $ Petal.Width : num  0.2 0.2 0.2 0.2 0.2 0.4 0.3 0.2 0.2 0.1 ...\n",
      " $ Species     : Factor w/ 3 levels \"setosa\",\"versicolor\",..: 1 1 1 1 1 1 1 1 1 1 ...\n"
     ]
    },
    {
     "data": {
      "text/plain": [
       "\n",
       "    setosa versicolor  virginica \n",
       "        50         50         50 "
      ]
     },
     "metadata": {},
     "output_type": "display_data"
    }
   ],
   "source": [
    "# Remove the first row which contains column names\n",
    "dataset <- dataset[-1, ]\n",
    "# Convert the columns to their appropriate types\n",
    "dataset$Sepal.Length <- as.numeric(dataset$Sepal.Length)\n",
    "dataset$Sepal.Width <- as.numeric(dataset$Sepal.Width)\n",
    "dataset$Petal.Length <- as.numeric(dataset$Petal.Length)\n",
    "dataset$Petal.Width <- as.numeric(dataset$Petal.Width)\n",
    "dataset$Species <- factor(dataset$Species)\n",
    "# Verify the structure and distribution again\n",
    "str(dataset)\n",
    "table(dataset$Species)"
   ]
  },
  {
   "cell_type": "code",
   "execution_count": 5,
   "id": "56871865-df91-4330-a732-e6a1136102ce",
   "metadata": {
    "scrolled": true
   },
   "outputs": [
    {
     "data": {
      "text/html": [
       "<style>\n",
       ".list-inline {list-style: none; margin:0; padding: 0}\n",
       ".list-inline>li {display: inline-block}\n",
       ".list-inline>li:not(:last-child)::after {content: \"\\00b7\"; padding: 0 .5ex}\n",
       "</style>\n",
       "<ol class=list-inline><li>'setosa'</li><li>'versicolor'</li><li>'virginica'</li></ol>\n"
      ],
      "text/latex": [
       "\\begin{enumerate*}\n",
       "\\item 'setosa'\n",
       "\\item 'versicolor'\n",
       "\\item 'virginica'\n",
       "\\end{enumerate*}\n"
      ],
      "text/markdown": [
       "1. 'setosa'\n",
       "2. 'versicolor'\n",
       "3. 'virginica'\n",
       "\n",
       "\n"
      ],
      "text/plain": [
       "[1] \"setosa\"     \"versicolor\" \"virginica\" "
      ]
     },
     "metadata": {},
     "output_type": "display_data"
    }
   ],
   "source": [
    "# create a list of 80% of the rows in the original dataset we can use for training\n",
    "validation_index <- createDataPartition(dataset$Species, p=0.80, list=FALSE)\n",
    "# select 20% of the data for validation\n",
    "validation <- dataset[-validation_index,]\n",
    "# use the remaining 80% of data to training and testing the models\n",
    "dataset <- dataset[validation_index,]\n",
    "# Convert the Species column to a factor\n",
    "dataset$Species <- as.factor(dataset$Species)\n",
    "# List the levels of the Species column\n",
    "levels(dataset$Species)"
   ]
  },
  {
   "cell_type": "code",
   "execution_count": 6,
   "id": "b593cdb7-18cf-42ef-9258-f7e40db9105d",
   "metadata": {},
   "outputs": [
    {
     "name": "stdout",
     "output_type": "stream",
     "text": [
      "'data.frame':\t120 obs. of  5 variables:\n",
      " $ Sepal.Length: num  5.1 4.9 4.7 4.6 5 4.6 5 4.9 5.4 4.8 ...\n",
      " $ Sepal.Width : num  3.5 3 3.2 3.1 3.6 3.4 3.4 3.1 3.7 3.4 ...\n",
      " $ Petal.Length: num  1.4 1.4 1.3 1.5 1.4 1.4 1.5 1.5 1.5 1.6 ...\n",
      " $ Petal.Width : num  0.2 0.2 0.2 0.2 0.2 0.3 0.2 0.1 0.2 0.2 ...\n",
      " $ Species     : Factor w/ 3 levels \"setosa\",\"versicolor\",..: 1 1 1 1 1 1 1 1 1 1 ...\n"
     ]
    },
    {
     "data": {
      "text/plain": [
       "\n",
       "    setosa versicolor  virginica \n",
       "        40         40         40 "
      ]
     },
     "metadata": {},
     "output_type": "display_data"
    }
   ],
   "source": [
    "# Inspect the structure of the dataset\n",
    "str(dataset)\n",
    "# Check the distribution of the Species column\n",
    "table(dataset$Species)"
   ]
  },
  {
   "cell_type": "code",
   "execution_count": 7,
   "id": "968f2e7d-76e6-450c-ad38-f5270c84a2ae",
   "metadata": {},
   "outputs": [
    {
     "data": {
      "text/html": [
       "<style>\n",
       ".list-inline {list-style: none; margin:0; padding: 0}\n",
       ".list-inline>li {display: inline-block}\n",
       ".list-inline>li:not(:last-child)::after {content: \"\\00b7\"; padding: 0 .5ex}\n",
       "</style>\n",
       "<ol class=list-inline><li>120</li><li>5</li></ol>\n"
      ],
      "text/latex": [
       "\\begin{enumerate*}\n",
       "\\item 120\n",
       "\\item 5\n",
       "\\end{enumerate*}\n"
      ],
      "text/markdown": [
       "1. 120\n",
       "2. 5\n",
       "\n",
       "\n"
      ],
      "text/plain": [
       "[1] 120   5"
      ]
     },
     "metadata": {},
     "output_type": "display_data"
    }
   ],
   "source": [
    "# dimensions of dataset\n",
    "dim(dataset)"
   ]
  },
  {
   "cell_type": "code",
   "execution_count": 8,
   "id": "d770fa68-f657-466d-a560-5276c5b42abd",
   "metadata": {},
   "outputs": [
    {
     "data": {
      "text/html": [
       "<style>\n",
       ".dl-inline {width: auto; margin:0; padding: 0}\n",
       ".dl-inline>dt, .dl-inline>dd {float: none; width: auto; display: inline-block}\n",
       ".dl-inline>dt::after {content: \":\\0020\"; padding-right: .5ex}\n",
       ".dl-inline>dt:not(:first-of-type) {padding-left: .5ex}\n",
       "</style><dl class=dl-inline><dt>Sepal.Length</dt><dd>'numeric'</dd><dt>Sepal.Width</dt><dd>'numeric'</dd><dt>Petal.Length</dt><dd>'numeric'</dd><dt>Petal.Width</dt><dd>'numeric'</dd><dt>Species</dt><dd>'factor'</dd></dl>\n"
      ],
      "text/latex": [
       "\\begin{description*}\n",
       "\\item[Sepal.Length] 'numeric'\n",
       "\\item[Sepal.Width] 'numeric'\n",
       "\\item[Petal.Length] 'numeric'\n",
       "\\item[Petal.Width] 'numeric'\n",
       "\\item[Species] 'factor'\n",
       "\\end{description*}\n"
      ],
      "text/markdown": [
       "Sepal.Length\n",
       ":   'numeric'Sepal.Width\n",
       ":   'numeric'Petal.Length\n",
       ":   'numeric'Petal.Width\n",
       ":   'numeric'Species\n",
       ":   'factor'\n",
       "\n"
      ],
      "text/plain": [
       "Sepal.Length  Sepal.Width Petal.Length  Petal.Width      Species \n",
       "   \"numeric\"    \"numeric\"    \"numeric\"    \"numeric\"     \"factor\" "
      ]
     },
     "metadata": {},
     "output_type": "display_data"
    }
   ],
   "source": [
    "# list types for each attribute\n",
    "sapply(dataset, class)"
   ]
  },
  {
   "cell_type": "code",
   "execution_count": 9,
   "id": "5e5682de-baa0-40cf-9b50-fe8f4111e6ba",
   "metadata": {},
   "outputs": [
    {
     "data": {
      "text/html": [
       "<table class=\"dataframe\">\n",
       "<caption>A data.frame: 6 × 5</caption>\n",
       "<thead>\n",
       "\t<tr><th></th><th scope=col>Sepal.Length</th><th scope=col>Sepal.Width</th><th scope=col>Petal.Length</th><th scope=col>Petal.Width</th><th scope=col>Species</th></tr>\n",
       "\t<tr><th></th><th scope=col>&lt;dbl&gt;</th><th scope=col>&lt;dbl&gt;</th><th scope=col>&lt;dbl&gt;</th><th scope=col>&lt;dbl&gt;</th><th scope=col>&lt;fct&gt;</th></tr>\n",
       "</thead>\n",
       "<tbody>\n",
       "\t<tr><th scope=row>2</th><td>5.1</td><td>3.5</td><td>1.4</td><td>0.2</td><td>setosa</td></tr>\n",
       "\t<tr><th scope=row>3</th><td>4.9</td><td>3.0</td><td>1.4</td><td>0.2</td><td>setosa</td></tr>\n",
       "\t<tr><th scope=row>4</th><td>4.7</td><td>3.2</td><td>1.3</td><td>0.2</td><td>setosa</td></tr>\n",
       "\t<tr><th scope=row>5</th><td>4.6</td><td>3.1</td><td>1.5</td><td>0.2</td><td>setosa</td></tr>\n",
       "\t<tr><th scope=row>6</th><td>5.0</td><td>3.6</td><td>1.4</td><td>0.2</td><td>setosa</td></tr>\n",
       "\t<tr><th scope=row>8</th><td>4.6</td><td>3.4</td><td>1.4</td><td>0.3</td><td>setosa</td></tr>\n",
       "</tbody>\n",
       "</table>\n"
      ],
      "text/latex": [
       "A data.frame: 6 × 5\n",
       "\\begin{tabular}{r|lllll}\n",
       "  & Sepal.Length & Sepal.Width & Petal.Length & Petal.Width & Species\\\\\n",
       "  & <dbl> & <dbl> & <dbl> & <dbl> & <fct>\\\\\n",
       "\\hline\n",
       "\t2 & 5.1 & 3.5 & 1.4 & 0.2 & setosa\\\\\n",
       "\t3 & 4.9 & 3.0 & 1.4 & 0.2 & setosa\\\\\n",
       "\t4 & 4.7 & 3.2 & 1.3 & 0.2 & setosa\\\\\n",
       "\t5 & 4.6 & 3.1 & 1.5 & 0.2 & setosa\\\\\n",
       "\t6 & 5.0 & 3.6 & 1.4 & 0.2 & setosa\\\\\n",
       "\t8 & 4.6 & 3.4 & 1.4 & 0.3 & setosa\\\\\n",
       "\\end{tabular}\n"
      ],
      "text/markdown": [
       "\n",
       "A data.frame: 6 × 5\n",
       "\n",
       "| <!--/--> | Sepal.Length &lt;dbl&gt; | Sepal.Width &lt;dbl&gt; | Petal.Length &lt;dbl&gt; | Petal.Width &lt;dbl&gt; | Species &lt;fct&gt; |\n",
       "|---|---|---|---|---|---|\n",
       "| 2 | 5.1 | 3.5 | 1.4 | 0.2 | setosa |\n",
       "| 3 | 4.9 | 3.0 | 1.4 | 0.2 | setosa |\n",
       "| 4 | 4.7 | 3.2 | 1.3 | 0.2 | setosa |\n",
       "| 5 | 4.6 | 3.1 | 1.5 | 0.2 | setosa |\n",
       "| 6 | 5.0 | 3.6 | 1.4 | 0.2 | setosa |\n",
       "| 8 | 4.6 | 3.4 | 1.4 | 0.3 | setosa |\n",
       "\n"
      ],
      "text/plain": [
       "  Sepal.Length Sepal.Width Petal.Length Petal.Width Species\n",
       "2 5.1          3.5         1.4          0.2         setosa \n",
       "3 4.9          3.0         1.4          0.2         setosa \n",
       "4 4.7          3.2         1.3          0.2         setosa \n",
       "5 4.6          3.1         1.5          0.2         setosa \n",
       "6 5.0          3.6         1.4          0.2         setosa \n",
       "8 4.6          3.4         1.4          0.3         setosa "
      ]
     },
     "metadata": {},
     "output_type": "display_data"
    }
   ],
   "source": [
    "# take a peek at the first 5 rows of the data\n",
    "head(dataset)"
   ]
  },
  {
   "cell_type": "code",
   "execution_count": 10,
   "id": "1920bdc6-3bff-4b8a-8ee7-8d7997249c9b",
   "metadata": {},
   "outputs": [
    {
     "data": {
      "text/html": [
       "<style>\n",
       ".list-inline {list-style: none; margin:0; padding: 0}\n",
       ".list-inline>li {display: inline-block}\n",
       ".list-inline>li:not(:last-child)::after {content: \"\\00b7\"; padding: 0 .5ex}\n",
       "</style>\n",
       "<ol class=list-inline><li>'setosa'</li><li>'versicolor'</li><li>'virginica'</li></ol>\n"
      ],
      "text/latex": [
       "\\begin{enumerate*}\n",
       "\\item 'setosa'\n",
       "\\item 'versicolor'\n",
       "\\item 'virginica'\n",
       "\\end{enumerate*}\n"
      ],
      "text/markdown": [
       "1. 'setosa'\n",
       "2. 'versicolor'\n",
       "3. 'virginica'\n",
       "\n",
       "\n"
      ],
      "text/plain": [
       "[1] \"setosa\"     \"versicolor\" \"virginica\" "
      ]
     },
     "metadata": {},
     "output_type": "display_data"
    }
   ],
   "source": [
    "# list the levels for the class\n",
    "levels(dataset$Species)"
   ]
  },
  {
   "cell_type": "code",
   "execution_count": 11,
   "id": "1606c661-b97e-4f5c-80e1-7d83cf99c805",
   "metadata": {},
   "outputs": [
    {
     "data": {
      "text/html": [
       "<table class=\"dataframe\">\n",
       "<caption>A matrix: 3 × 2 of type dbl</caption>\n",
       "<thead>\n",
       "\t<tr><th></th><th scope=col>freq</th><th scope=col>percentage</th></tr>\n",
       "</thead>\n",
       "<tbody>\n",
       "\t<tr><th scope=row>setosa</th><td>40</td><td>33.33333</td></tr>\n",
       "\t<tr><th scope=row>versicolor</th><td>40</td><td>33.33333</td></tr>\n",
       "\t<tr><th scope=row>virginica</th><td>40</td><td>33.33333</td></tr>\n",
       "</tbody>\n",
       "</table>\n"
      ],
      "text/latex": [
       "A matrix: 3 × 2 of type dbl\n",
       "\\begin{tabular}{r|ll}\n",
       "  & freq & percentage\\\\\n",
       "\\hline\n",
       "\tsetosa & 40 & 33.33333\\\\\n",
       "\tversicolor & 40 & 33.33333\\\\\n",
       "\tvirginica & 40 & 33.33333\\\\\n",
       "\\end{tabular}\n"
      ],
      "text/markdown": [
       "\n",
       "A matrix: 3 × 2 of type dbl\n",
       "\n",
       "| <!--/--> | freq | percentage |\n",
       "|---|---|---|\n",
       "| setosa | 40 | 33.33333 |\n",
       "| versicolor | 40 | 33.33333 |\n",
       "| virginica | 40 | 33.33333 |\n",
       "\n"
      ],
      "text/plain": [
       "           freq percentage\n",
       "setosa     40   33.33333  \n",
       "versicolor 40   33.33333  \n",
       "virginica  40   33.33333  "
      ]
     },
     "metadata": {},
     "output_type": "display_data"
    }
   ],
   "source": [
    "# summarize the class distribution\n",
    "percentage <- prop.table(table(dataset$Species)) * 100\n",
    "cbind(freq=table(dataset$Species), percentage=percentage)"
   ]
  },
  {
   "cell_type": "code",
   "execution_count": 12,
   "id": "49709762-59da-47dc-bed2-bbf3ba811e18",
   "metadata": {},
   "outputs": [
    {
     "data": {
      "text/plain": [
       "  Sepal.Length    Sepal.Width     Petal.Length    Petal.Width   \n",
       " Min.   :4.300   Min.   :2.000   Min.   :1.000   Min.   :0.100  \n",
       " 1st Qu.:5.100   1st Qu.:2.800   1st Qu.:1.600   1st Qu.:0.300  \n",
       " Median :5.800   Median :3.000   Median :4.350   Median :1.300  \n",
       " Mean   :5.843   Mean   :3.057   Mean   :3.758   Mean   :1.199  \n",
       " 3rd Qu.:6.400   3rd Qu.:3.300   3rd Qu.:5.100   3rd Qu.:1.800  \n",
       " Max.   :7.900   Max.   :4.400   Max.   :6.900   Max.   :2.500  "
      ]
     },
     "metadata": {},
     "output_type": "display_data"
    }
   ],
   "source": [
    "# summarize attribute distributions: perform summary on numeric columns only\n",
    "numeric_columns <- sapply(iris, is.numeric)\n",
    "summary(iris[, numeric_columns])\n"
   ]
  },
  {
   "cell_type": "code",
   "execution_count": 13,
   "id": "18c44713-adab-4c1e-802b-a82d1a72f92c",
   "metadata": {},
   "outputs": [],
   "source": [
    "# Visualize Dataset\n",
    "# split input and output\n",
    "x <- dataset[,1:4]\n",
    "y <- dataset[,5]"
   ]
  },
  {
   "cell_type": "code",
   "execution_count": 14,
   "id": "3f6f579e-4430-4040-90e0-cd7e4f021ea7",
   "metadata": {},
   "outputs": [
    {
     "data": {
      "image/png": "[encoded data removed]",
      "text/plain": [
       "Plot with title “Petal.Width”"
      ]
     },
     "metadata": {
      "image/png": {
       "height": 420,
       "width": 420
      }
     },
     "output_type": "display_data"
    }
   ],
   "source": [
    "# split input and output\n",
    "x <- dataset[, 1:4]\n",
    "y <- dataset[, 5]\n",
    "# boxplot for each attribute on one image\n",
    "par(mfrow=c(1,4))\n",
    "  for(i in 1:4) {\n",
    "  boxplot(x[,i], main=names(iris)[i])\n",
    "}"
   ]
  },
  {
   "cell_type": "code",
   "execution_count": 15,
   "id": "c9aa67ec-a989-4651-a60d-459ccebd25fd",
   "metadata": {},
   "outputs": [
    {
     "data": {
      "image/png": "[encoded data removed]",
      "text/plain": [
       "plot without title"
      ]
     },
     "metadata": {
      "image/png": {
       "height": 420,
       "width": 420
      }
     },
     "output_type": "display_data"
    }
   ],
   "source": [
    "# barplot for class breakdown\n",
    "plot(y)"
   ]
  },
  {
   "cell_type": "code",
   "execution_count": 16,
   "id": "fc0a3798-d37d-49c2-8c54-7ad6fb5be463",
   "metadata": {},
   "outputs": [
    {
     "name": "stderr",
     "output_type": "stream",
     "text": [
      "ERROR while rich displaying an object: Error in grid.Call.graphics(C_downviewport, name$name, strict): Viewport 'plot_01.panel.1.1.off.vp' was not found\n",
      "\n",
      "Traceback:\n",
      "1. tryCatch(withCallingHandlers({\n",
      " .     if (!mime %in% names(repr::mime2repr)) \n",
      " .         stop(\"No repr_* for mimetype \", mime, \" in repr::mime2repr\")\n",
      " .     rpr <- repr::mime2repr[[mime]](obj)\n",
      " .     if (is.null(rpr)) \n",
      " .         return(NULL)\n",
      " .     prepare_content(is.raw(rpr), rpr)\n",
      " . }, error = error_handler), error = outer_handler)\n",
      "2. tryCatchList(expr, classes, parentenv, handlers)\n",
      "3. tryCatchOne(expr, names, parentenv, handlers[[1L]])\n",
      "4. doTryCatch(return(expr), name, parentenv, handler)\n",
      "5. withCallingHandlers({\n",
      " .     if (!mime %in% names(repr::mime2repr)) \n",
      " .         stop(\"No repr_* for mimetype \", mime, \" in repr::mime2repr\")\n",
      " .     rpr <- repr::mime2repr[[mime]](obj)\n",
      " .     if (is.null(rpr)) \n",
      " .         return(NULL)\n",
      " .     prepare_content(is.raw(rpr), rpr)\n",
      " . }, error = error_handler)\n",
      "6. repr::mime2repr[[mime]](obj)\n",
      "7. repr_text.default(obj)\n",
      "8. paste(capture.output(print(obj)), collapse = \"\\n\")\n",
      "9. capture.output(print(obj))\n",
      "10. withVisible(...elt(i))\n",
      "11. print(obj)\n",
      "12. print.trellis(obj)\n",
      "13. printFunction(x, ...)\n",
      "14. downViewport(trellis.vpname(\"panel\", column = column, row = row, \n",
      "  .     prefix = prefix, clip.off = TRUE))\n",
      "15. downViewport.default(trellis.vpname(\"panel\", column = column, \n",
      "  .     row = row, prefix = prefix, clip.off = TRUE))\n",
      "16. downViewport(vpPath(name), strict, recording = recording)\n",
      "17. downViewport.vpPath(vpPath(name), strict, recording = recording)\n",
      "18. grid.Call.graphics(C_downviewport, name$name, strict)\n"
     ]
    },
    {
     "data": {
      "image/png": "[encoded data removed]",
      "text/plain": [
       "plot without title"
      ]
     },
     "metadata": {
      "image/png": {
       "height": 420,
       "width": 420
      }
     },
     "output_type": "display_data"
    }
   ],
   "source": [
    "# scatterplot matrix\n",
    "featurePlot(x = x, y = y, plot = 'ellipse')"
   ]
  },
  {
   "cell_type": "code",
   "execution_count": null,
   "id": "8af4447b-3edc-4ab6-9a75-ade34aa35d03",
   "metadata": {},
   "outputs": [],
   "source": []
  }
 ],
 "metadata": {
  "kernelspec": {
   "display_name": "R",
   "language": "R",
   "name": "ir"
  },
  "language_info": {
   "codemirror_mode": "r",
   "file_extension": ".r",
   "mimetype": "text/x-r-source",
   "name": "R",
   "pygments_lexer": "r",
   "version": "4.1.3"
  }
 },
 "nbformat": 4,
 "nbformat_minor": 5
}
